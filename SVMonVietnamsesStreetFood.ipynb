{
  "nbformat": 4,
  "nbformat_minor": 0,
  "metadata": {
    "colab": {
      "name": "SVMonVietnamsesStreetFood.ipynb",
      "provenance": [],
      "collapsed_sections": [],
      "authorship_tag": "ABX9TyNdn9GSBa+mgsPnaJfC0DwU",
      "include_colab_link": true
    },
    "kernelspec": {
      "name": "python3",
      "display_name": "Python 3"
    },
    "language_info": {
      "name": "python"
    }
  },
  "cells": [
    {
      "cell_type": "markdown",
      "metadata": {
        "id": "view-in-github",
        "colab_type": "text"
      },
      "source": [
        "<a href=\"https://colab.research.google.com/github/truongnc160466/main2/blob/main/SVMonVietnamsesStreetFood.ipynb\" target=\"_parent\"><img src=\"https://colab.research.google.com/assets/colab-badge.svg\" alt=\"Open In Colab\"/></a>"
      ]
    },
    {
      "cell_type": "markdown",
      "source": [
        "# Library Import"
      ],
      "metadata": {
        "id": "bteR5R9pZZg1"
      }
    },
    {
      "cell_type": "code",
      "execution_count": 1,
      "metadata": {
        "colab": {
          "base_uri": "https://localhost:8080/"
        },
        "id": "39-qWgB5QFym",
        "outputId": "a8e8d56a-f1f2-48a4-cdb9-a75713328e9c"
      },
      "outputs": [
        {
          "output_type": "stream",
          "name": "stdout",
          "text": [
            "Looking in indexes: https://pypi.org/simple, https://us-python.pkg.dev/colab-wheels/public/simple/\n",
            "Requirement already satisfied: numba in /usr/local/lib/python3.7/dist-packages (0.51.2)\n",
            "Requirement already satisfied: llvmlite<0.35,>=0.34.0.dev0 in /usr/local/lib/python3.7/dist-packages (from numba) (0.34.0)\n",
            "Requirement already satisfied: numpy>=1.15 in /usr/local/lib/python3.7/dist-packages (from numba) (1.21.6)\n",
            "Requirement already satisfied: setuptools in /usr/local/lib/python3.7/dist-packages (from numba) (57.4.0)\n"
          ]
        }
      ],
      "source": [
        "import pandas as pd\n",
        "import numpy as np\n",
        "import matplotlib.pyplot as plt\n",
        "import seaborn as sns\n",
        "from imblearn.over_sampling import SMOTE\n",
        "from collections import Counter\n",
        "\n",
        "from sklearn.model_selection import train_test_split\n",
        "from sklearn.preprocessing import MinMaxScaler\n",
        "from sklearn.utils import shuffle\n",
        "from sklearn import svm, datasets\n",
        "import sklearn.model_selection as model_selection\n",
        "from sklearn.metrics import accuracy_score\n",
        "from sklearn.metrics import f1_score\n",
        "from sklearn.metrics import classification_report\n",
        "from sklearn.model_selection import GridSearchCV\n",
        "from sklearn.svm import SVC\n",
        "\n",
        "!pip install numba\n",
        "''' !find / -iname 'libdevice'\n",
        "!find / -iname 'libnvvm.so'\n",
        "import os\n",
        "os.environ['NUMBAPRO_LIBDEVICE'] = \"/usr/local/cuda-10.0/nvvm/libdevice\"\n",
        "os.environ['NUMBAPRO_NVVM'] = \"/usr/local/cuda-10.0/nvvm/lib64/libnvvm.so\" '''\n",
        "from numba import njit"
      ]
    },
    {
      "cell_type": "markdown",
      "source": [
        "# Data Import"
      ],
      "metadata": {
        "id": "G6ol6S-bZdCX"
      }
    },
    {
      "cell_type": "markdown",
      "source": [
        "Dataset: annotation-sheet.csv                                                     \n",
        "[Dataset Github Link](https://github.com/truongnc160466/main1/blob/4b453c52860c1a40065d7974bb177d32b46ff74c/annotation_sheet.csv)                                                                     \n",
        "[RAW Dataset Link](https://raw.githubusercontent.com/truongnc160466/main1/4b453c52860c1a40065d7974bb177d32b46ff74c/annotation_sheet.csv)"
      ],
      "metadata": {
        "id": "rFk6JAeea7iv"
      }
    },
    {
      "cell_type": "markdown",
      "source": [
        "1 - Data Retrieve"
      ],
      "metadata": {
        "id": "9FLhCDQsbchR"
      }
    },
    {
      "cell_type": "code",
      "source": [
        "# Raw dataset link \n",
        "url = 'https://raw.githubusercontent.com/truongnc160466/main1/4b453c52860c1a40065d7974bb177d32b46ff74c/annotation_sheet.csv'\n",
        "df = pd.read_csv(url)\n",
        "\n",
        "# Shuffle data (we will shuffle the data later in the model anyway)\n",
        "df = df.sample(frac = 1).reset_index(drop = True)\n",
        "\n",
        "df.head()"
      ],
      "metadata": {
        "colab": {
          "base_uri": "https://localhost:8080/",
          "height": 352
        },
        "id": "XwedpL0pbNgq",
        "outputId": "bbfc7f52-5bee-4741-c67f-e8e9c95fb321"
      },
      "execution_count": 2,
      "outputs": [
        {
          "output_type": "execute_result",
          "data": {
            "text/plain": [
              "     no  video_index student_id             student_name     video_id  \\\n",
              "0  1804          497   SE150790              Lê Chí Hùng  EJgiS39h5ZI   \n",
              "1  1501          385   SE161434           Võ Thành Nam  JG_LLt3QYbs   \n",
              "2  2927          823   SE160753             Lê Xuân Tùng  6sZuKsIIRuI   \n",
              "3  1576          410   SE161261  Nguyễn Đoàn Hiếu Nguyên  kI6Ci6d5msU   \n",
              "4    35            6        NaN                      NaN  QXR-hOL5fFs   \n",
              "\n",
              "               standardized_dish     dish_occurence dish_imply  duration  \\\n",
              "0                       DOUGHNUT           DOUGHNUT   bánh rán        58   \n",
              "1            vermicelli and beef                NaN     bun bo        68   \n",
              "2                         yogurt             yogurt   sữa chua        28   \n",
              "3  Vietnamese steamed rice rolls         Rice rolls  Bánh cuốn        42   \n",
              "4                      ice cream  coconut ice cream        NaN        59   \n",
              "\n",
              "  start_time  ... standardized_sauce sauce   venue container recipes  \\\n",
              "0      02:01  ...                NaN   NaN  casual  hands_on       1   \n",
              "1      03:54  ...                NaN   NaN  street      bowl       0   \n",
              "2      09:07  ...                NaN   NaN  street     glass       0   \n",
              "3      05:44  ...                NaN   NaN  street     plate       0   \n",
              "4      13:31  ...                NaN   NaN  casual     other       1   \n",
              "\n",
              "  viewer_feeling food_feeling youtuber_feeling  location  foreigner  \n",
              "0              4            4                5  Việt Nam          1  \n",
              "1              4            4                4      DnHa          1  \n",
              "2              1            1                3    Đà Lạt          0  \n",
              "3              3            3                4        HN          1  \n",
              "4              4            2                5        HN          1  \n",
              "\n",
              "[5 rows x 25 columns]"
            ],
            "text/html": [
              "\n",
              "  <div id=\"df-ad493c58-c29b-4f2a-a218-519d97b24067\">\n",
              "    <div class=\"colab-df-container\">\n",
              "      <div>\n",
              "<style scoped>\n",
              "    .dataframe tbody tr th:only-of-type {\n",
              "        vertical-align: middle;\n",
              "    }\n",
              "\n",
              "    .dataframe tbody tr th {\n",
              "        vertical-align: top;\n",
              "    }\n",
              "\n",
              "    .dataframe thead th {\n",
              "        text-align: right;\n",
              "    }\n",
              "</style>\n",
              "<table border=\"1\" class=\"dataframe\">\n",
              "  <thead>\n",
              "    <tr style=\"text-align: right;\">\n",
              "      <th></th>\n",
              "      <th>no</th>\n",
              "      <th>video_index</th>\n",
              "      <th>student_id</th>\n",
              "      <th>student_name</th>\n",
              "      <th>video_id</th>\n",
              "      <th>standardized_dish</th>\n",
              "      <th>dish_occurence</th>\n",
              "      <th>dish_imply</th>\n",
              "      <th>duration</th>\n",
              "      <th>start_time</th>\n",
              "      <th>...</th>\n",
              "      <th>standardized_sauce</th>\n",
              "      <th>sauce</th>\n",
              "      <th>venue</th>\n",
              "      <th>container</th>\n",
              "      <th>recipes</th>\n",
              "      <th>viewer_feeling</th>\n",
              "      <th>food_feeling</th>\n",
              "      <th>youtuber_feeling</th>\n",
              "      <th>location</th>\n",
              "      <th>foreigner</th>\n",
              "    </tr>\n",
              "  </thead>\n",
              "  <tbody>\n",
              "    <tr>\n",
              "      <th>0</th>\n",
              "      <td>1804</td>\n",
              "      <td>497</td>\n",
              "      <td>SE150790</td>\n",
              "      <td>Lê Chí Hùng</td>\n",
              "      <td>EJgiS39h5ZI</td>\n",
              "      <td>DOUGHNUT</td>\n",
              "      <td>DOUGHNUT</td>\n",
              "      <td>bánh rán</td>\n",
              "      <td>58</td>\n",
              "      <td>02:01</td>\n",
              "      <td>...</td>\n",
              "      <td>NaN</td>\n",
              "      <td>NaN</td>\n",
              "      <td>casual</td>\n",
              "      <td>hands_on</td>\n",
              "      <td>1</td>\n",
              "      <td>4</td>\n",
              "      <td>4</td>\n",
              "      <td>5</td>\n",
              "      <td>Việt Nam</td>\n",
              "      <td>1</td>\n",
              "    </tr>\n",
              "    <tr>\n",
              "      <th>1</th>\n",
              "      <td>1501</td>\n",
              "      <td>385</td>\n",
              "      <td>SE161434</td>\n",
              "      <td>Võ Thành Nam</td>\n",
              "      <td>JG_LLt3QYbs</td>\n",
              "      <td>vermicelli and beef</td>\n",
              "      <td>NaN</td>\n",
              "      <td>bun bo</td>\n",
              "      <td>68</td>\n",
              "      <td>03:54</td>\n",
              "      <td>...</td>\n",
              "      <td>NaN</td>\n",
              "      <td>NaN</td>\n",
              "      <td>street</td>\n",
              "      <td>bowl</td>\n",
              "      <td>0</td>\n",
              "      <td>4</td>\n",
              "      <td>4</td>\n",
              "      <td>4</td>\n",
              "      <td>DnHa</td>\n",
              "      <td>1</td>\n",
              "    </tr>\n",
              "    <tr>\n",
              "      <th>2</th>\n",
              "      <td>2927</td>\n",
              "      <td>823</td>\n",
              "      <td>SE160753</td>\n",
              "      <td>Lê Xuân Tùng</td>\n",
              "      <td>6sZuKsIIRuI</td>\n",
              "      <td>yogurt</td>\n",
              "      <td>yogurt</td>\n",
              "      <td>sữa chua</td>\n",
              "      <td>28</td>\n",
              "      <td>09:07</td>\n",
              "      <td>...</td>\n",
              "      <td>NaN</td>\n",
              "      <td>NaN</td>\n",
              "      <td>street</td>\n",
              "      <td>glass</td>\n",
              "      <td>0</td>\n",
              "      <td>1</td>\n",
              "      <td>1</td>\n",
              "      <td>3</td>\n",
              "      <td>Đà Lạt</td>\n",
              "      <td>0</td>\n",
              "    </tr>\n",
              "    <tr>\n",
              "      <th>3</th>\n",
              "      <td>1576</td>\n",
              "      <td>410</td>\n",
              "      <td>SE161261</td>\n",
              "      <td>Nguyễn Đoàn Hiếu Nguyên</td>\n",
              "      <td>kI6Ci6d5msU</td>\n",
              "      <td>Vietnamese steamed rice rolls</td>\n",
              "      <td>Rice rolls</td>\n",
              "      <td>Bánh cuốn</td>\n",
              "      <td>42</td>\n",
              "      <td>05:44</td>\n",
              "      <td>...</td>\n",
              "      <td>NaN</td>\n",
              "      <td>NaN</td>\n",
              "      <td>street</td>\n",
              "      <td>plate</td>\n",
              "      <td>0</td>\n",
              "      <td>3</td>\n",
              "      <td>3</td>\n",
              "      <td>4</td>\n",
              "      <td>HN</td>\n",
              "      <td>1</td>\n",
              "    </tr>\n",
              "    <tr>\n",
              "      <th>4</th>\n",
              "      <td>35</td>\n",
              "      <td>6</td>\n",
              "      <td>NaN</td>\n",
              "      <td>NaN</td>\n",
              "      <td>QXR-hOL5fFs</td>\n",
              "      <td>ice cream</td>\n",
              "      <td>coconut ice cream</td>\n",
              "      <td>NaN</td>\n",
              "      <td>59</td>\n",
              "      <td>13:31</td>\n",
              "      <td>...</td>\n",
              "      <td>NaN</td>\n",
              "      <td>NaN</td>\n",
              "      <td>casual</td>\n",
              "      <td>other</td>\n",
              "      <td>1</td>\n",
              "      <td>4</td>\n",
              "      <td>2</td>\n",
              "      <td>5</td>\n",
              "      <td>HN</td>\n",
              "      <td>1</td>\n",
              "    </tr>\n",
              "  </tbody>\n",
              "</table>\n",
              "<p>5 rows × 25 columns</p>\n",
              "</div>\n",
              "      <button class=\"colab-df-convert\" onclick=\"convertToInteractive('df-ad493c58-c29b-4f2a-a218-519d97b24067')\"\n",
              "              title=\"Convert this dataframe to an interactive table.\"\n",
              "              style=\"display:none;\">\n",
              "        \n",
              "  <svg xmlns=\"http://www.w3.org/2000/svg\" height=\"24px\"viewBox=\"0 0 24 24\"\n",
              "       width=\"24px\">\n",
              "    <path d=\"M0 0h24v24H0V0z\" fill=\"none\"/>\n",
              "    <path d=\"M18.56 5.44l.94 2.06.94-2.06 2.06-.94-2.06-.94-.94-2.06-.94 2.06-2.06.94zm-11 1L8.5 8.5l.94-2.06 2.06-.94-2.06-.94L8.5 2.5l-.94 2.06-2.06.94zm10 10l.94 2.06.94-2.06 2.06-.94-2.06-.94-.94-2.06-.94 2.06-2.06.94z\"/><path d=\"M17.41 7.96l-1.37-1.37c-.4-.4-.92-.59-1.43-.59-.52 0-1.04.2-1.43.59L10.3 9.45l-7.72 7.72c-.78.78-.78 2.05 0 2.83L4 21.41c.39.39.9.59 1.41.59.51 0 1.02-.2 1.41-.59l7.78-7.78 2.81-2.81c.8-.78.8-2.07 0-2.86zM5.41 20L4 18.59l7.72-7.72 1.47 1.35L5.41 20z\"/>\n",
              "  </svg>\n",
              "      </button>\n",
              "      \n",
              "  <style>\n",
              "    .colab-df-container {\n",
              "      display:flex;\n",
              "      flex-wrap:wrap;\n",
              "      gap: 12px;\n",
              "    }\n",
              "\n",
              "    .colab-df-convert {\n",
              "      background-color: #E8F0FE;\n",
              "      border: none;\n",
              "      border-radius: 50%;\n",
              "      cursor: pointer;\n",
              "      display: none;\n",
              "      fill: #1967D2;\n",
              "      height: 32px;\n",
              "      padding: 0 0 0 0;\n",
              "      width: 32px;\n",
              "    }\n",
              "\n",
              "    .colab-df-convert:hover {\n",
              "      background-color: #E2EBFA;\n",
              "      box-shadow: 0px 1px 2px rgba(60, 64, 67, 0.3), 0px 1px 3px 1px rgba(60, 64, 67, 0.15);\n",
              "      fill: #174EA6;\n",
              "    }\n",
              "\n",
              "    [theme=dark] .colab-df-convert {\n",
              "      background-color: #3B4455;\n",
              "      fill: #D2E3FC;\n",
              "    }\n",
              "\n",
              "    [theme=dark] .colab-df-convert:hover {\n",
              "      background-color: #434B5C;\n",
              "      box-shadow: 0px 1px 3px 1px rgba(0, 0, 0, 0.15);\n",
              "      filter: drop-shadow(0px 1px 2px rgba(0, 0, 0, 0.3));\n",
              "      fill: #FFFFFF;\n",
              "    }\n",
              "  </style>\n",
              "\n",
              "      <script>\n",
              "        const buttonEl =\n",
              "          document.querySelector('#df-ad493c58-c29b-4f2a-a218-519d97b24067 button.colab-df-convert');\n",
              "        buttonEl.style.display =\n",
              "          google.colab.kernel.accessAllowed ? 'block' : 'none';\n",
              "\n",
              "        async function convertToInteractive(key) {\n",
              "          const element = document.querySelector('#df-ad493c58-c29b-4f2a-a218-519d97b24067');\n",
              "          const dataTable =\n",
              "            await google.colab.kernel.invokeFunction('convertToInteractive',\n",
              "                                                     [key], {});\n",
              "          if (!dataTable) return;\n",
              "\n",
              "          const docLinkHtml = 'Like what you see? Visit the ' +\n",
              "            '<a target=\"_blank\" href=https://colab.research.google.com/notebooks/data_table.ipynb>data table notebook</a>'\n",
              "            + ' to learn more about interactive tables.';\n",
              "          element.innerHTML = '';\n",
              "          dataTable['output_type'] = 'display_data';\n",
              "          await google.colab.output.renderOutput(dataTable, element);\n",
              "          const docLink = document.createElement('div');\n",
              "          docLink.innerHTML = docLinkHtml;\n",
              "          element.appendChild(docLink);\n",
              "        }\n",
              "      </script>\n",
              "    </div>\n",
              "  </div>\n",
              "  "
            ]
          },
          "metadata": {},
          "execution_count": 2
        }
      ]
    },
    {
      "cell_type": "markdown",
      "source": [
        "2 - Data Description"
      ],
      "metadata": {
        "id": "wzDKFbshbfmq"
      }
    },
    {
      "cell_type": "code",
      "source": [
        "print('Dataframe info: ')\n",
        "df.info()\n",
        "print('\\n\\n')\n",
        "print('Dataframe description: ')\n",
        "df.describe().transpose()"
      ],
      "metadata": {
        "colab": {
          "base_uri": "https://localhost:8080/",
          "height": 973
        },
        "id": "WdbnsW8fbjfE",
        "outputId": "5ec48d02-b9c3-4902-ac59-15b8cc01d9db"
      },
      "execution_count": 3,
      "outputs": [
        {
          "output_type": "stream",
          "name": "stdout",
          "text": [
            "Dataframe info: \n",
            "<class 'pandas.core.frame.DataFrame'>\n",
            "RangeIndex: 3757 entries, 0 to 3756\n",
            "Data columns (total 25 columns):\n",
            " #   Column                          Non-Null Count  Dtype \n",
            "---  ------                          --------------  ----- \n",
            " 0   no                              3757 non-null   int64 \n",
            " 1   video_index                     3757 non-null   int64 \n",
            " 2   student_id                      2884 non-null   object\n",
            " 3   student_name                    2884 non-null   object\n",
            " 4   video_id                        3757 non-null   object\n",
            " 5   standardized_dish               3757 non-null   object\n",
            " 6   dish_occurence                  3313 non-null   object\n",
            " 7   dish_imply                      3159 non-null   object\n",
            " 8   duration                        3757 non-null   int64 \n",
            " 9   start_time                      3757 non-null   object\n",
            " 10  end_time                        3757 non-null   object\n",
            " 11  standardized_ingredient         3119 non-null   object\n",
            " 12  no_ingredient                   3757 non-null   int64 \n",
            " 13  ingredient                      2881 non-null   object\n",
            " 14  standardized_sauce_ingredients  869 non-null    object\n",
            " 15  standardized_sauce              984 non-null    object\n",
            " 16  sauce                           971 non-null    object\n",
            " 17  venue                           3757 non-null   object\n",
            " 18  container                       3757 non-null   object\n",
            " 19  recipes                         3757 non-null   int64 \n",
            " 20  viewer_feeling                  3757 non-null   int64 \n",
            " 21  food_feeling                    3757 non-null   int64 \n",
            " 22  youtuber_feeling                3757 non-null   int64 \n",
            " 23  location                        3704 non-null   object\n",
            " 24  foreigner                       3757 non-null   int64 \n",
            "dtypes: int64(9), object(16)\n",
            "memory usage: 733.9+ KB\n",
            "\n",
            "\n",
            "\n",
            "Dataframe description: \n"
          ]
        },
        {
          "output_type": "execute_result",
          "data": {
            "text/plain": [
              "                   count         mean          std  min    25%     50%  \\\n",
              "no                3757.0  1879.000000  1084.696809  1.0  940.0  1879.0   \n",
              "video_index       3757.0   515.537131   315.761411  1.0  234.0   527.0   \n",
              "duration          3757.0   110.310088   921.869713  0.0   26.0    60.0   \n",
              "no_ingredient     3757.0     3.284802     2.806564  0.0    1.0     3.0   \n",
              "recipes           3757.0     0.274421     0.446281  0.0    0.0     0.0   \n",
              "viewer_feeling    3757.0     3.740484     0.925898  1.0    3.0     4.0   \n",
              "food_feeling      3757.0     3.412563     1.172153  1.0    2.0     4.0   \n",
              "youtuber_feeling  3757.0     4.195369     0.860721  1.0    4.0     4.0   \n",
              "foreigner         3757.0     0.933191     0.249724  0.0    1.0     1.0   \n",
              "\n",
              "                     75%      max  \n",
              "no                2818.0   3757.0  \n",
              "video_index        786.0   1068.0  \n",
              "duration           118.0  55958.0  \n",
              "no_ingredient        5.0     20.0  \n",
              "recipes              1.0      1.0  \n",
              "viewer_feeling       4.0      5.0  \n",
              "food_feeling         4.0      5.0  \n",
              "youtuber_feeling     5.0      5.0  \n",
              "foreigner            1.0      1.0  "
            ],
            "text/html": [
              "\n",
              "  <div id=\"df-03fb3789-bce8-455c-9da4-6a00c31a4ebe\">\n",
              "    <div class=\"colab-df-container\">\n",
              "      <div>\n",
              "<style scoped>\n",
              "    .dataframe tbody tr th:only-of-type {\n",
              "        vertical-align: middle;\n",
              "    }\n",
              "\n",
              "    .dataframe tbody tr th {\n",
              "        vertical-align: top;\n",
              "    }\n",
              "\n",
              "    .dataframe thead th {\n",
              "        text-align: right;\n",
              "    }\n",
              "</style>\n",
              "<table border=\"1\" class=\"dataframe\">\n",
              "  <thead>\n",
              "    <tr style=\"text-align: right;\">\n",
              "      <th></th>\n",
              "      <th>count</th>\n",
              "      <th>mean</th>\n",
              "      <th>std</th>\n",
              "      <th>min</th>\n",
              "      <th>25%</th>\n",
              "      <th>50%</th>\n",
              "      <th>75%</th>\n",
              "      <th>max</th>\n",
              "    </tr>\n",
              "  </thead>\n",
              "  <tbody>\n",
              "    <tr>\n",
              "      <th>no</th>\n",
              "      <td>3757.0</td>\n",
              "      <td>1879.000000</td>\n",
              "      <td>1084.696809</td>\n",
              "      <td>1.0</td>\n",
              "      <td>940.0</td>\n",
              "      <td>1879.0</td>\n",
              "      <td>2818.0</td>\n",
              "      <td>3757.0</td>\n",
              "    </tr>\n",
              "    <tr>\n",
              "      <th>video_index</th>\n",
              "      <td>3757.0</td>\n",
              "      <td>515.537131</td>\n",
              "      <td>315.761411</td>\n",
              "      <td>1.0</td>\n",
              "      <td>234.0</td>\n",
              "      <td>527.0</td>\n",
              "      <td>786.0</td>\n",
              "      <td>1068.0</td>\n",
              "    </tr>\n",
              "    <tr>\n",
              "      <th>duration</th>\n",
              "      <td>3757.0</td>\n",
              "      <td>110.310088</td>\n",
              "      <td>921.869713</td>\n",
              "      <td>0.0</td>\n",
              "      <td>26.0</td>\n",
              "      <td>60.0</td>\n",
              "      <td>118.0</td>\n",
              "      <td>55958.0</td>\n",
              "    </tr>\n",
              "    <tr>\n",
              "      <th>no_ingredient</th>\n",
              "      <td>3757.0</td>\n",
              "      <td>3.284802</td>\n",
              "      <td>2.806564</td>\n",
              "      <td>0.0</td>\n",
              "      <td>1.0</td>\n",
              "      <td>3.0</td>\n",
              "      <td>5.0</td>\n",
              "      <td>20.0</td>\n",
              "    </tr>\n",
              "    <tr>\n",
              "      <th>recipes</th>\n",
              "      <td>3757.0</td>\n",
              "      <td>0.274421</td>\n",
              "      <td>0.446281</td>\n",
              "      <td>0.0</td>\n",
              "      <td>0.0</td>\n",
              "      <td>0.0</td>\n",
              "      <td>1.0</td>\n",
              "      <td>1.0</td>\n",
              "    </tr>\n",
              "    <tr>\n",
              "      <th>viewer_feeling</th>\n",
              "      <td>3757.0</td>\n",
              "      <td>3.740484</td>\n",
              "      <td>0.925898</td>\n",
              "      <td>1.0</td>\n",
              "      <td>3.0</td>\n",
              "      <td>4.0</td>\n",
              "      <td>4.0</td>\n",
              "      <td>5.0</td>\n",
              "    </tr>\n",
              "    <tr>\n",
              "      <th>food_feeling</th>\n",
              "      <td>3757.0</td>\n",
              "      <td>3.412563</td>\n",
              "      <td>1.172153</td>\n",
              "      <td>1.0</td>\n",
              "      <td>2.0</td>\n",
              "      <td>4.0</td>\n",
              "      <td>4.0</td>\n",
              "      <td>5.0</td>\n",
              "    </tr>\n",
              "    <tr>\n",
              "      <th>youtuber_feeling</th>\n",
              "      <td>3757.0</td>\n",
              "      <td>4.195369</td>\n",
              "      <td>0.860721</td>\n",
              "      <td>1.0</td>\n",
              "      <td>4.0</td>\n",
              "      <td>4.0</td>\n",
              "      <td>5.0</td>\n",
              "      <td>5.0</td>\n",
              "    </tr>\n",
              "    <tr>\n",
              "      <th>foreigner</th>\n",
              "      <td>3757.0</td>\n",
              "      <td>0.933191</td>\n",
              "      <td>0.249724</td>\n",
              "      <td>0.0</td>\n",
              "      <td>1.0</td>\n",
              "      <td>1.0</td>\n",
              "      <td>1.0</td>\n",
              "      <td>1.0</td>\n",
              "    </tr>\n",
              "  </tbody>\n",
              "</table>\n",
              "</div>\n",
              "      <button class=\"colab-df-convert\" onclick=\"convertToInteractive('df-03fb3789-bce8-455c-9da4-6a00c31a4ebe')\"\n",
              "              title=\"Convert this dataframe to an interactive table.\"\n",
              "              style=\"display:none;\">\n",
              "        \n",
              "  <svg xmlns=\"http://www.w3.org/2000/svg\" height=\"24px\"viewBox=\"0 0 24 24\"\n",
              "       width=\"24px\">\n",
              "    <path d=\"M0 0h24v24H0V0z\" fill=\"none\"/>\n",
              "    <path d=\"M18.56 5.44l.94 2.06.94-2.06 2.06-.94-2.06-.94-.94-2.06-.94 2.06-2.06.94zm-11 1L8.5 8.5l.94-2.06 2.06-.94-2.06-.94L8.5 2.5l-.94 2.06-2.06.94zm10 10l.94 2.06.94-2.06 2.06-.94-2.06-.94-.94-2.06-.94 2.06-2.06.94z\"/><path d=\"M17.41 7.96l-1.37-1.37c-.4-.4-.92-.59-1.43-.59-.52 0-1.04.2-1.43.59L10.3 9.45l-7.72 7.72c-.78.78-.78 2.05 0 2.83L4 21.41c.39.39.9.59 1.41.59.51 0 1.02-.2 1.41-.59l7.78-7.78 2.81-2.81c.8-.78.8-2.07 0-2.86zM5.41 20L4 18.59l7.72-7.72 1.47 1.35L5.41 20z\"/>\n",
              "  </svg>\n",
              "      </button>\n",
              "      \n",
              "  <style>\n",
              "    .colab-df-container {\n",
              "      display:flex;\n",
              "      flex-wrap:wrap;\n",
              "      gap: 12px;\n",
              "    }\n",
              "\n",
              "    .colab-df-convert {\n",
              "      background-color: #E8F0FE;\n",
              "      border: none;\n",
              "      border-radius: 50%;\n",
              "      cursor: pointer;\n",
              "      display: none;\n",
              "      fill: #1967D2;\n",
              "      height: 32px;\n",
              "      padding: 0 0 0 0;\n",
              "      width: 32px;\n",
              "    }\n",
              "\n",
              "    .colab-df-convert:hover {\n",
              "      background-color: #E2EBFA;\n",
              "      box-shadow: 0px 1px 2px rgba(60, 64, 67, 0.3), 0px 1px 3px 1px rgba(60, 64, 67, 0.15);\n",
              "      fill: #174EA6;\n",
              "    }\n",
              "\n",
              "    [theme=dark] .colab-df-convert {\n",
              "      background-color: #3B4455;\n",
              "      fill: #D2E3FC;\n",
              "    }\n",
              "\n",
              "    [theme=dark] .colab-df-convert:hover {\n",
              "      background-color: #434B5C;\n",
              "      box-shadow: 0px 1px 3px 1px rgba(0, 0, 0, 0.15);\n",
              "      filter: drop-shadow(0px 1px 2px rgba(0, 0, 0, 0.3));\n",
              "      fill: #FFFFFF;\n",
              "    }\n",
              "  </style>\n",
              "\n",
              "      <script>\n",
              "        const buttonEl =\n",
              "          document.querySelector('#df-03fb3789-bce8-455c-9da4-6a00c31a4ebe button.colab-df-convert');\n",
              "        buttonEl.style.display =\n",
              "          google.colab.kernel.accessAllowed ? 'block' : 'none';\n",
              "\n",
              "        async function convertToInteractive(key) {\n",
              "          const element = document.querySelector('#df-03fb3789-bce8-455c-9da4-6a00c31a4ebe');\n",
              "          const dataTable =\n",
              "            await google.colab.kernel.invokeFunction('convertToInteractive',\n",
              "                                                     [key], {});\n",
              "          if (!dataTable) return;\n",
              "\n",
              "          const docLinkHtml = 'Like what you see? Visit the ' +\n",
              "            '<a target=\"_blank\" href=https://colab.research.google.com/notebooks/data_table.ipynb>data table notebook</a>'\n",
              "            + ' to learn more about interactive tables.';\n",
              "          element.innerHTML = '';\n",
              "          dataTable['output_type'] = 'display_data';\n",
              "          await google.colab.output.renderOutput(dataTable, element);\n",
              "          const docLink = document.createElement('div');\n",
              "          docLink.innerHTML = docLinkHtml;\n",
              "          element.appendChild(docLink);\n",
              "        }\n",
              "      </script>\n",
              "    </div>\n",
              "  </div>\n",
              "  "
            ]
          },
          "metadata": {},
          "execution_count": 3
        }
      ]
    },
    {
      "cell_type": "code",
      "source": [
        "plt.figure(dpi = 100)\n",
        "ax = sns.countplot(data = df, x = 'viewer_feeling')\n",
        "plt.show()"
      ],
      "metadata": {
        "colab": {
          "base_uri": "https://localhost:8080/",
          "height": 382
        },
        "id": "aI9vEJ7obm-r",
        "outputId": "08fb7c91-8159-4f08-f5b6-026def85e2f5"
      },
      "execution_count": 4,
      "outputs": [
        {
          "output_type": "display_data",
          "data": {
            "text/plain": [
              "<Figure size 600x400 with 1 Axes>"
            ],
            "image/png": "[encoded data removed]"
          },
          "metadata": {
            "needs_background": "light"
          }
        }
      ]
    },
    {
      "cell_type": "markdown",
      "source": [
        "# Data Preprocessing"
      ],
      "metadata": {
        "id": "PGAqOJwEbt1Z"
      }
    },
    {
      "cell_type": "markdown",
      "source": [
        "1 - One Hot Encoding (Columns = venue, container)"
      ],
      "metadata": {
        "id": "tj6br71ubyqC"
      }
    },
    {
      "cell_type": "code",
      "source": [
        "label_df = pd.get_dummies(df[['container', 'venue']], prefix = {'container', 'venue'})"
      ],
      "metadata": {
        "id": "4ATCOIMNbzUP"
      },
      "execution_count": 31,
      "outputs": []
    },
    {
      "cell_type": "markdown",
      "source": [
        "2 - Data Scaling (Columns = duration, no_ingredient)"
      ],
      "metadata": {
        "id": "ynZ6_6Syb4-s"
      }
    },
    {
      "cell_type": "code",
      "source": [
        "df[[\"duration\"]] = MinMaxScaler().fit_transform(df[[\"duration\"]])\n",
        "df[[\"no_ingredient\"]] = MinMaxScaler().fit_transform(df[[\"no_ingredient\"]])"
      ],
      "metadata": {
        "id": "-lHV0DJpb7ee"
      },
      "execution_count": 30,
      "outputs": []
    },
    {
      "cell_type": "markdown",
      "source": [
        "3 - Define Features (X) And Data Values (Y)"
      ],
      "metadata": {
        "id": "zYRxlUpxb-TG"
      }
    },
    {
      "cell_type": "code",
      "source": [
        "input = np.array(df[['duration', 'no_ingredient', 'recipes']].join(label_df))\n",
        "output = np.array(df[['viewer_feeling']])\n",
        "\n",
        "# output = pd.get_dummies(df['viewer_feeling'], prefix = 'viewer_feeling')\n",
        "# print(output)\n",
        "\n",
        "input_train, input_test, output_train, output_test = train_test_split(input, np.ravel(output), test_size = 0.2, random_state = 101, stratify = output)\n",
        "\n",
        "print(input.shape, output.shape)"
      ],
      "metadata": {
        "colab": {
          "base_uri": "https://localhost:8080/"
        },
        "id": "TaxQCes7cAf5",
        "outputId": "6eaf429b-c49c-4623-b569-724f9fa75af6"
      },
      "execution_count": 28,
      "outputs": [
        {
          "output_type": "stream",
          "name": "stdout",
          "text": [
            "(3757, 17) (3757, 1)\n"
          ]
        }
      ]
    },
    {
      "cell_type": "markdown",
      "source": [
        "5 - Show all input features"
      ],
      "metadata": {
        "id": "qDS_i051Ce3S"
      }
    },
    {
      "cell_type": "code",
      "source": [
        "df[['duration', 'no_ingredient', 'recipes']].join(label_df).info()"
      ],
      "metadata": {
        "colab": {
          "base_uri": "https://localhost:8080/"
        },
        "id": "BEIQg1kUCdhe",
        "outputId": "24e789e4-d157-456c-fd26-b1c195fe4e0f"
      },
      "execution_count": 27,
      "outputs": [
        {
          "output_type": "stream",
          "name": "stdout",
          "text": [
            "<class 'pandas.core.frame.DataFrame'>\n",
            "RangeIndex: 3757 entries, 0 to 3756\n",
            "Data columns (total 17 columns):\n",
            " #   Column              Non-Null Count  Dtype  \n",
            "---  ------              --------------  -----  \n",
            " 0   duration            3757 non-null   float64\n",
            " 1   no_ingredient       3757 non-null   float64\n",
            " 2   recipes             3757 non-null   int64  \n",
            " 3   container_bag       3757 non-null   uint8  \n",
            " 4   container_bottle    3757 non-null   uint8  \n",
            " 5   container_bowl      3757 non-null   uint8  \n",
            " 6   container_box       3757 non-null   uint8  \n",
            " 7   container_glass     3757 non-null   uint8  \n",
            " 8   container_hands_on  3757 non-null   uint8  \n",
            " 9   container_other     3757 non-null   uint8  \n",
            " 10  container_plate     3757 non-null   uint8  \n",
            " 11  container_pot       3757 non-null   uint8  \n",
            " 12  container_tray      3757 non-null   uint8  \n",
            " 13  venue_casual        3757 non-null   uint8  \n",
            " 14  venue_fine          3757 non-null   uint8  \n",
            " 15  venue_other         3757 non-null   uint8  \n",
            " 16  venue_street        3757 non-null   uint8  \n",
            "dtypes: float64(2), int64(1), uint8(14)\n",
            "memory usage: 139.5 KB\n"
          ]
        }
      ]
    },
    {
      "cell_type": "markdown",
      "source": [
        "# Model Building"
      ],
      "metadata": {
        "id": "sY0EYTDeCsbI"
      }
    },
    {
      "cell_type": "code",
      "source": [
        "# Create a SVM with linear kernel\n",
        "clf_lin = svm.SVC(kernel = 'linear')\n",
        "# Create a SVM with polynomial kernel\n",
        "clf_poly = svm.SVC(kernel = 'poly')\n",
        "# Create a SVM with RBF kernel\n",
        "clf_rbf = svm.SVC(kernel = 'rbf')"
      ],
      "metadata": {
        "id": "RdXdICHADFdd"
      },
      "execution_count": 32,
      "outputs": []
    },
    {
      "cell_type": "code",
      "source": [
        "# Train the model using the training sets with different type of kernels\n",
        "clf_lin.fit(input_train, output_train) # Linear Kernel\n",
        "clf_poly.fit(input_train, output_train) # Polynomial Kernel\n",
        "clf_rbf.fit(input_train, output_train) # RBF Kernel"
      ],
      "metadata": {
        "colab": {
          "base_uri": "https://localhost:8080/"
        },
        "id": "KiRC5E6EEbK7",
        "outputId": "e1b9b7a6-a518-4d1c-b29d-b8efd30c648e"
      },
      "execution_count": 33,
      "outputs": [
        {
          "output_type": "execute_result",
          "data": {
            "text/plain": [
              "SVC()"
            ]
          },
          "metadata": {},
          "execution_count": 33
        }
      ]
    },
    {
      "cell_type": "code",
      "source": [
        "# Predict the response for test dataset\n",
        "lin_pred = clf_lin.predict(input_test)\n",
        "poly_pred = clf_poly.predict(input_test)\n",
        "rbf_pred = clf_rbf.predict(input_test)"
      ],
      "metadata": {
        "id": "KuSY9AjyF1FG"
      },
      "execution_count": 34,
      "outputs": []
    },
    {
      "cell_type": "code",
      "source": [
        "lin_accuracy = accuracy_score(output_test, lin_pred)\n",
        "lin_f1 = f1_score(output_test, lin_pred, average = 'weighted')\n",
        "lin_clfrpt = classification_report(output_test, lin_pred, labels=np.unique(lin_pred))\n",
        "print('Accuracy (Linear Kernel): ', \"%.8f\" % (lin_accuracy * 100))\n",
        "print('F1 Score (Linear Kernel): ', \"%.8f\" % (lin_f1 * 100))\n",
        "print(lin_clfrpt)"
      ],
      "metadata": {
        "colab": {
          "base_uri": "https://localhost:8080/"
        },
        "id": "ofXchKdoGf2m",
        "outputId": "e1544319-2aab-4e30-f2f2-2d0937967e66"
      },
      "execution_count": 35,
      "outputs": [
        {
          "output_type": "stream",
          "name": "stdout",
          "text": [
            "Accuracy (Linear Kernel):  40.42553191\n",
            "F1 Score (Linear Kernel):  35.62155090\n",
            "              precision    recall  f1-score   support\n",
            "\n",
            "           3       0.40      0.72      0.51       242\n",
            "           4       0.41      0.17      0.24       285\n",
            "           5       0.42      0.48      0.45       170\n",
            "\n",
            "   micro avg       0.40      0.44      0.42       697\n",
            "   macro avg       0.41      0.46      0.40       697\n",
            "weighted avg       0.41      0.44      0.38       697\n",
            "\n"
          ]
        }
      ]
    },
    {
      "cell_type": "code",
      "source": [
        "poly_accuracy = accuracy_score(output_test, poly_pred)\n",
        "poly_f1 = f1_score(output_test, poly_pred, average = 'weighted')\n",
        "poly_clfrpt = classification_report(output_test, poly_pred, labels=np.unique(poly_pred))\n",
        "print('Accuracy (Polynomial Kernel): ', \"%.8f\" % (poly_accuracy * 100))\n",
        "print('F1 Score (Polynomial Kernel): ', \"%.8f\" % (poly_f1 * 100))\n",
        "print(poly_clfrpt)"
      ],
      "metadata": {
        "colab": {
          "base_uri": "https://localhost:8080/"
        },
        "id": "kyzotOnEIINn",
        "outputId": "c3239c0c-371d-45ec-dac8-9326bf755152"
      },
      "execution_count": 36,
      "outputs": [
        {
          "output_type": "stream",
          "name": "stdout",
          "text": [
            "Accuracy (Polynomial Kernel):  42.81914894\n",
            "F1 Score (Polynomial Kernel):  39.46231275\n",
            "              precision    recall  f1-score   support\n",
            "\n",
            "           3       0.42      0.65      0.51       242\n",
            "           4       0.42      0.46      0.44       285\n",
            "           5       0.52      0.19      0.28       170\n",
            "\n",
            "   micro avg       0.43      0.46      0.44       697\n",
            "   macro avg       0.45      0.44      0.41       697\n",
            "weighted avg       0.44      0.46      0.43       697\n",
            "\n"
          ]
        }
      ]
    },
    {
      "cell_type": "code",
      "source": [
        "rbf_accuracy = accuracy_score(output_test, rbf_pred)\n",
        "rbf_f1 = f1_score(output_test, rbf_pred, average = 'weighted')\n",
        "rbf_clfrpt = classification_report(output_test, rbf_pred, labels=np.unique(rbf_pred)) \n",
        "print('Accuracy (RBF Kernel): ', \"%.8f\" % (rbf_accuracy * 100))\n",
        "print('F1 Score (RBF Kernel): ', \"%.8f\" % (rbf_f1 * 100))\n",
        "print(rbf_clfrpt)"
      ],
      "metadata": {
        "colab": {
          "base_uri": "https://localhost:8080/"
        },
        "id": "VstTUSE6Ikuv",
        "outputId": "4ac63ef2-8158-4438-d697-acf4dd82534f"
      },
      "execution_count": 38,
      "outputs": [
        {
          "output_type": "stream",
          "name": "stdout",
          "text": [
            "Accuracy (RBF Kernel):  42.81914894\n",
            "F1 Score (RBF Kernel):  39.50827910\n",
            "              precision    recall  f1-score   support\n",
            "\n",
            "           3       0.42      0.66      0.51       242\n",
            "           4       0.42      0.45      0.44       285\n",
            "           5       0.52      0.20      0.29       170\n",
            "\n",
            "   micro avg       0.43      0.46      0.44       697\n",
            "   macro avg       0.45      0.44      0.41       697\n",
            "weighted avg       0.44      0.46      0.43       697\n",
            "\n"
          ]
        }
      ]
    },
    {
      "cell_type": "markdown",
      "source": [
        "Using Grid Search"
      ],
      "metadata": {
        "id": "nx81rCdlzgMs"
      }
    },
    {
      "cell_type": "code",
      "source": [
        "# defining parameter range\n",
        "param_grid = {'C': [0.1, 1, 10, 100, 1000],\n",
        "              'gamma': [1, 0.1, 0.001, 0.0001],\n",
        "              'kernel': ['rbf']}\n",
        "\n",
        "grid = GridSearchCV(SVC(), param_grid, refit = True, verbose = 3)\n",
        "\n",
        "# fitting the model for grid search\n",
        "grid.fit(input_train, output_train)"
      ],
      "metadata": {
        "colab": {
          "base_uri": "https://localhost:8080/"
        },
        "id": "qAlufYX2zjjC",
        "outputId": "6d37d693-d760-41a7-8269-d7df736ddf97"
      },
      "execution_count": 39,
      "outputs": [
        {
          "output_type": "stream",
          "name": "stdout",
          "text": [
            "Fitting 5 folds for each of 20 candidates, totalling 100 fits\n",
            "[CV 1/5] END ........C=0.1, gamma=1, kernel=rbf;, score=0.396 total time=   0.6s\n",
            "[CV 2/5] END ........C=0.1, gamma=1, kernel=rbf;, score=0.384 total time=   0.6s\n",
            "[CV 3/5] END ........C=0.1, gamma=1, kernel=rbf;, score=0.376 total time=   0.6s\n",
            "[CV 4/5] END ........C=0.1, gamma=1, kernel=rbf;, score=0.381 total time=   0.6s\n",
            "[CV 5/5] END ........C=0.1, gamma=1, kernel=rbf;, score=0.373 total time=   0.6s\n",
            "[CV 1/5] END ......C=0.1, gamma=0.1, kernel=rbf;, score=0.388 total time=   0.6s\n",
            "[CV 2/5] END ......C=0.1, gamma=0.1, kernel=rbf;, score=0.381 total time=   0.6s\n",
            "[CV 3/5] END ......C=0.1, gamma=0.1, kernel=rbf;, score=0.389 total time=   0.6s\n",
            "[CV 4/5] END ......C=0.1, gamma=0.1, kernel=rbf;, score=0.388 total time=   0.6s\n",
            "[CV 5/5] END ......C=0.1, gamma=0.1, kernel=rbf;, score=0.386 total time=   0.6s\n",
            "[CV 1/5] END ....C=0.1, gamma=0.001, kernel=rbf;, score=0.378 total time=   0.6s\n",
            "[CV 2/5] END ....C=0.1, gamma=0.001, kernel=rbf;, score=0.378 total time=   0.6s\n",
            "[CV 3/5] END ....C=0.1, gamma=0.001, kernel=rbf;, score=0.378 total time=   0.6s\n",
            "[CV 4/5] END ....C=0.1, gamma=0.001, kernel=rbf;, score=0.379 total time=   0.6s\n",
            "[CV 5/5] END ....C=0.1, gamma=0.001, kernel=rbf;, score=0.379 total time=   0.6s\n",
            "[CV 1/5] END ...C=0.1, gamma=0.0001, kernel=rbf;, score=0.378 total time=   0.6s\n",
            "[CV 2/5] END ...C=0.1, gamma=0.0001, kernel=rbf;, score=0.378 total time=   0.6s\n",
            "[CV 3/5] END ...C=0.1, gamma=0.0001, kernel=rbf;, score=0.378 total time=   0.6s\n",
            "[CV 4/5] END ...C=0.1, gamma=0.0001, kernel=rbf;, score=0.379 total time=   0.6s\n",
            "[CV 5/5] END ...C=0.1, gamma=0.0001, kernel=rbf;, score=0.379 total time=   0.6s\n",
            "[CV 1/5] END ..........C=1, gamma=1, kernel=rbf;, score=0.414 total time=   0.6s\n",
            "[CV 2/5] END ..........C=1, gamma=1, kernel=rbf;, score=0.421 total time=   0.6s\n",
            "[CV 3/5] END ..........C=1, gamma=1, kernel=rbf;, score=0.406 total time=   0.6s\n",
            "[CV 4/5] END ..........C=1, gamma=1, kernel=rbf;, score=0.419 total time=   0.6s\n",
            "[CV 5/5] END ..........C=1, gamma=1, kernel=rbf;, score=0.383 total time=   0.6s\n",
            "[CV 1/5] END ........C=1, gamma=0.1, kernel=rbf;, score=0.393 total time=   0.6s\n",
            "[CV 2/5] END ........C=1, gamma=0.1, kernel=rbf;, score=0.391 total time=   0.6s\n",
            "[CV 3/5] END ........C=1, gamma=0.1, kernel=rbf;, score=0.383 total time=   0.6s\n",
            "[CV 4/5] END ........C=1, gamma=0.1, kernel=rbf;, score=0.419 total time=   0.6s\n",
            "[CV 5/5] END ........C=1, gamma=0.1, kernel=rbf;, score=0.361 total time=   0.6s\n",
            "[CV 1/5] END ......C=1, gamma=0.001, kernel=rbf;, score=0.378 total time=   0.6s\n",
            "[CV 2/5] END ......C=1, gamma=0.001, kernel=rbf;, score=0.378 total time=   0.6s\n",
            "[CV 3/5] END ......C=1, gamma=0.001, kernel=rbf;, score=0.378 total time=   0.6s\n",
            "[CV 4/5] END ......C=1, gamma=0.001, kernel=rbf;, score=0.379 total time=   0.6s\n",
            "[CV 5/5] END ......C=1, gamma=0.001, kernel=rbf;, score=0.379 total time=   0.6s\n",
            "[CV 1/5] END .....C=1, gamma=0.0001, kernel=rbf;, score=0.378 total time=   0.6s\n",
            "[CV 2/5] END .....C=1, gamma=0.0001, kernel=rbf;, score=0.378 total time=   0.6s\n",
            "[CV 3/5] END .....C=1, gamma=0.0001, kernel=rbf;, score=0.378 total time=   0.6s\n",
            "[CV 4/5] END .....C=1, gamma=0.0001, kernel=rbf;, score=0.379 total time=   0.6s\n",
            "[CV 5/5] END .....C=1, gamma=0.0001, kernel=rbf;, score=0.379 total time=   0.6s\n",
            "[CV 1/5] END .........C=10, gamma=1, kernel=rbf;, score=0.409 total time=   0.7s\n",
            "[CV 2/5] END .........C=10, gamma=1, kernel=rbf;, score=0.419 total time=   0.7s\n",
            "[CV 3/5] END .........C=10, gamma=1, kernel=rbf;, score=0.421 total time=   0.7s\n",
            "[CV 4/5] END .........C=10, gamma=1, kernel=rbf;, score=0.433 total time=   0.7s\n",
            "[CV 5/5] END .........C=10, gamma=1, kernel=rbf;, score=0.386 total time=   0.7s\n",
            "[CV 1/5] END .......C=10, gamma=0.1, kernel=rbf;, score=0.401 total time=   0.7s\n",
            "[CV 2/5] END .......C=10, gamma=0.1, kernel=rbf;, score=0.411 total time=   0.7s\n",
            "[CV 3/5] END .......C=10, gamma=0.1, kernel=rbf;, score=0.396 total time=   0.7s\n",
            "[CV 4/5] END .......C=10, gamma=0.1, kernel=rbf;, score=0.413 total time=   0.7s\n",
            "[CV 5/5] END .......C=10, gamma=0.1, kernel=rbf;, score=0.354 total time=   0.7s\n",
            "[CV 1/5] END .....C=10, gamma=0.001, kernel=rbf;, score=0.403 total time=   0.6s\n",
            "[CV 2/5] END .....C=10, gamma=0.001, kernel=rbf;, score=0.411 total time=   0.6s\n",
            "[CV 3/5] END .....C=10, gamma=0.001, kernel=rbf;, score=0.401 total time=   0.8s\n",
            "[CV 4/5] END .....C=10, gamma=0.001, kernel=rbf;, score=0.388 total time=   0.9s\n",
            "[CV 5/5] END .....C=10, gamma=0.001, kernel=rbf;, score=0.386 total time=   0.9s\n",
            "[CV 1/5] END ....C=10, gamma=0.0001, kernel=rbf;, score=0.378 total time=   0.6s\n",
            "[CV 2/5] END ....C=10, gamma=0.0001, kernel=rbf;, score=0.378 total time=   0.6s\n",
            "[CV 3/5] END ....C=10, gamma=0.0001, kernel=rbf;, score=0.378 total time=   0.6s\n",
            "[CV 4/5] END ....C=10, gamma=0.0001, kernel=rbf;, score=0.379 total time=   0.6s\n",
            "[CV 5/5] END ....C=10, gamma=0.0001, kernel=rbf;, score=0.379 total time=   0.6s\n",
            "[CV 1/5] END ........C=100, gamma=1, kernel=rbf;, score=0.424 total time=   1.3s\n",
            "[CV 2/5] END ........C=100, gamma=1, kernel=rbf;, score=0.406 total time=   1.2s\n",
            "[CV 3/5] END ........C=100, gamma=1, kernel=rbf;, score=0.438 total time=   1.2s\n",
            "[CV 4/5] END ........C=100, gamma=1, kernel=rbf;, score=0.421 total time=   1.2s\n",
            "[CV 5/5] END ........C=100, gamma=1, kernel=rbf;, score=0.396 total time=   1.2s\n",
            "[CV 1/5] END ......C=100, gamma=0.1, kernel=rbf;, score=0.431 total time=   0.9s\n",
            "[CV 2/5] END ......C=100, gamma=0.1, kernel=rbf;, score=0.421 total time=   0.9s\n",
            "[CV 3/5] END ......C=100, gamma=0.1, kernel=rbf;, score=0.423 total time=   0.9s\n",
            "[CV 4/5] END ......C=100, gamma=0.1, kernel=rbf;, score=0.424 total time=   0.8s\n",
            "[CV 5/5] END ......C=100, gamma=0.1, kernel=rbf;, score=0.396 total time=   0.9s\n",
            "[CV 1/5] END ....C=100, gamma=0.001, kernel=rbf;, score=0.386 total time=   0.6s\n",
            "[CV 2/5] END ....C=100, gamma=0.001, kernel=rbf;, score=0.399 total time=   0.6s\n",
            "[CV 3/5] END ....C=100, gamma=0.001, kernel=rbf;, score=0.393 total time=   0.6s\n",
            "[CV 4/5] END ....C=100, gamma=0.001, kernel=rbf;, score=0.416 total time=   0.6s\n",
            "[CV 5/5] END ....C=100, gamma=0.001, kernel=rbf;, score=0.378 total time=   0.6s\n",
            "[CV 1/5] END ...C=100, gamma=0.0001, kernel=rbf;, score=0.393 total time=   0.6s\n",
            "[CV 2/5] END ...C=100, gamma=0.0001, kernel=rbf;, score=0.408 total time=   0.6s\n",
            "[CV 3/5] END ...C=100, gamma=0.0001, kernel=rbf;, score=0.401 total time=   0.6s\n",
            "[CV 4/5] END ...C=100, gamma=0.0001, kernel=rbf;, score=0.388 total time=   0.6s\n",
            "[CV 5/5] END ...C=100, gamma=0.0001, kernel=rbf;, score=0.386 total time=   0.6s\n",
            "[CV 1/5] END .......C=1000, gamma=1, kernel=rbf;, score=0.409 total time=   3.0s\n",
            "[CV 2/5] END .......C=1000, gamma=1, kernel=rbf;, score=0.413 total time=   3.3s\n",
            "[CV 3/5] END .......C=1000, gamma=1, kernel=rbf;, score=0.416 total time=   3.1s\n",
            "[CV 4/5] END .......C=1000, gamma=1, kernel=rbf;, score=0.431 total time=   4.8s\n",
            "[CV 5/5] END .......C=1000, gamma=1, kernel=rbf;, score=0.394 total time=   4.4s\n",
            "[CV 1/5] END .....C=1000, gamma=0.1, kernel=rbf;, score=0.421 total time=   1.8s\n",
            "[CV 2/5] END .....C=1000, gamma=0.1, kernel=rbf;, score=0.429 total time=   1.8s\n",
            "[CV 3/5] END .....C=1000, gamma=0.1, kernel=rbf;, score=0.426 total time=   2.0s\n",
            "[CV 4/5] END .....C=1000, gamma=0.1, kernel=rbf;, score=0.444 total time=   1.7s\n",
            "[CV 5/5] END .....C=1000, gamma=0.1, kernel=rbf;, score=0.396 total time=   2.0s\n",
            "[CV 1/5] END ...C=1000, gamma=0.001, kernel=rbf;, score=0.398 total time=   1.0s\n",
            "[CV 2/5] END ...C=1000, gamma=0.001, kernel=rbf;, score=0.411 total time=   0.9s\n",
            "[CV 3/5] END ...C=1000, gamma=0.001, kernel=rbf;, score=0.411 total time=   0.9s\n",
            "[CV 4/5] END ...C=1000, gamma=0.001, kernel=rbf;, score=0.414 total time=   0.9s\n",
            "[CV 5/5] END ...C=1000, gamma=0.001, kernel=rbf;, score=0.388 total time=   1.0s\n",
            "[CV 1/5] END ..C=1000, gamma=0.0001, kernel=rbf;, score=0.386 total time=   0.7s\n",
            "[CV 2/5] END ..C=1000, gamma=0.0001, kernel=rbf;, score=0.399 total time=   0.7s\n",
            "[CV 3/5] END ..C=1000, gamma=0.0001, kernel=rbf;, score=0.393 total time=   0.7s\n",
            "[CV 4/5] END ..C=1000, gamma=0.0001, kernel=rbf;, score=0.418 total time=   0.7s\n",
            "[CV 5/5] END ..C=1000, gamma=0.0001, kernel=rbf;, score=0.378 total time=   0.7s\n"
          ]
        },
        {
          "output_type": "execute_result",
          "data": {
            "text/plain": [
              "GridSearchCV(estimator=SVC(),\n",
              "             param_grid={'C': [0.1, 1, 10, 100, 1000],\n",
              "                         'gamma': [1, 0.1, 0.001, 0.0001], 'kernel': ['rbf']},\n",
              "             verbose=3)"
            ]
          },
          "metadata": {},
          "execution_count": 39
        }
      ]
    },
    {
      "cell_type": "code",
      "source": [
        "# print best parameter after tuning\n",
        "print(grid.best_params_)\n",
        "\n",
        "# print how the model looks after hyper-parameter tuning\n",
        "print(grid.best_estimator_)\n",
        "grid_predictions = grid.predict(input_test)\n",
        "grid_accuracy = accuracy_score(output_test, grid_predictions)\n",
        "grid_f1 = f1_score(output_test, grid_predictions, average = 'weighted')\n",
        "grid_clfrpt = classification_report(output_test, grid_predictions, labels=np.unique(grid_predictions))\n",
        "print('Accuracy (using Grid Search): ', \"%.8f\" % (grid_accuracy * 100))\n",
        "print('F1 Score (using Grid Search): ', \"%.8f\" % (grid_f1 * 100))\n",
        "print(grid_clfrpt)"
      ],
      "metadata": {
        "colab": {
          "base_uri": "https://localhost:8080/"
        },
        "id": "l966-tQo1dId",
        "outputId": "c3100977-b070-4dc7-e65f-70b9c37f835a"
      },
      "execution_count": 44,
      "outputs": [
        {
          "output_type": "stream",
          "name": "stdout",
          "text": [
            "{'C': 1000, 'gamma': 0.1, 'kernel': 'rbf'}\n",
            "SVC(C=1000, gamma=0.1)\n",
            "Accuracy (using Grid Search):  42.28723404\n",
            "F1 Score (using Grid Search):  39.31409181\n",
            "              precision    recall  f1-score   support\n",
            "\n",
            "           2       0.25      0.02      0.04        43\n",
            "           3       0.42      0.57      0.48       242\n",
            "           4       0.42      0.52      0.46       285\n",
            "           5       0.50      0.18      0.27       170\n",
            "\n",
            "   micro avg       0.42      0.43      0.43       740\n",
            "   macro avg       0.40      0.32      0.31       740\n",
            "weighted avg       0.43      0.43      0.40       740\n",
            "\n"
          ]
        }
      ]
    }
  ]
}